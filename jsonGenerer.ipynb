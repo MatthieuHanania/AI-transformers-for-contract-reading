{
 "cells": [
  {
   "cell_type": "code",
   "execution_count": 2,
   "metadata": {},
   "outputs": [
    {
     "data": {
      "text/plain": [
       "'generated_data.json'"
      ]
     },
     "execution_count": 2,
     "metadata": {},
     "output_type": "execute_result"
    }
   ],
   "source": [
    "import random\n",
    "import json\n",
    "\n",
    "# Données d'exemple pour générer des phrases\n",
    "titles = [\n",
    "    \"Accord de confidentialité\", \"Contrat de prestation de services\", \n",
    "    \"Contrat de partenariat\", \"Contrat de bail\", \"Accord de collaboration\", \n",
    "    \"Contrat de travail\", \"Contrat d'assurance\", \"Accord de cession\", \n",
    "    \"Contrat de fourniture\", \"Accord commercial\"\n",
    "]\n",
    "names = [\n",
    "    \"Julie Martin\", \"Jean Dupont\", \"Sarah Bernard\", \"Nicolas Petit\", \n",
    "    \"Claire Durand\", \"Louis Moreau\", \"Sophie Leclerc\", \"Paul Garnier\", \n",
    "    \"Lucie Noël\", \"Marc Robert\"\n",
    "]\n",
    "dates = [\n",
    "    \"12 décembre 2020\", \"15 janvier 2023\", \"2 février 2021\", \n",
    "    \"18 mars 2022\", \"25 avril 2020\", \"10 juin 2021\", \n",
    "    \"30 septembre 2023\", \"5 août 2019\", \"7 juillet 2021\", \n",
    "    \"20 octobre 2022\"\n",
    "]\n",
    "\n",
    "def generate_sentences_and_labels(num_sentences=100):\n",
    "    data = {\"text\": [], \"labels\": []}\n",
    "    for _ in range(num_sentences):\n",
    "        title = random.choice(titles)\n",
    "        name = random.choice(names)\n",
    "        date = random.choice(dates)\n",
    "\n",
    "        # Construire la phrase\n",
    "        sentence = f\"{title} signé par {name} le {date}.\"\n",
    "        data[\"text\"].append(sentence)\n",
    "\n",
    "        # Trouver les indices pour les labels\n",
    "        title_start = 0\n",
    "        title_end = len(title)\n",
    "        name_start = sentence.find(name)\n",
    "        name_end = name_start + len(name)\n",
    "        date_start = sentence.find(date)\n",
    "        date_end = date_start + len(date)\n",
    "\n",
    "        labels = [\n",
    "            (title_start, title_end, 0),  # Titre\n",
    "            (name_start, name_end, 1),   # Personne\n",
    "            (date_start, date_end, 2)    # Date\n",
    "        ]\n",
    "        data[\"labels\"].append(labels)\n",
    "\n",
    "    return data\n",
    "\n",
    "# Générer 100 phrases\n",
    "generated_data = generate_sentences_and_labels(100)\n",
    "\n",
    "# Sauvegarder dans un fichier JSON\n",
    "file_path = \"generated_data.json\"\n",
    "with open(file_path, \"w\", encoding=\"utf-8\") as f:\n",
    "    json.dump(generated_data, f, ensure_ascii=False, indent=4)\n",
    "\n",
    "file_path\n"
   ]
  },
  {
   "cell_type": "code",
   "execution_count": null,
   "metadata": {},
   "outputs": [],
   "source": [
    "# CVS version\n",
    "# # Générer 100 phrases et labels directement\n",
    "# generated_data = generate_sentences_and_labels(100)\n",
    "\n",
    "# import pandas as pd\n",
    "\n",
    "# # Convertir en DataFrame pour visualisation si nécessaire\n",
    "# df = pd.DataFrame(generated_data)\n",
    "\n",
    "# df.to_csv(\"csv_dataset.csv\")\n",
    "\n"
   ]
  }
 ],
 "metadata": {
  "kernelspec": {
   "display_name": ".venv",
   "language": "python",
   "name": "python3"
  },
  "language_info": {
   "codemirror_mode": {
    "name": "ipython",
    "version": 3
   },
   "file_extension": ".py",
   "mimetype": "text/x-python",
   "name": "python",
   "nbconvert_exporter": "python",
   "pygments_lexer": "ipython3",
   "version": "3.10.2"
  }
 },
 "nbformat": 4,
 "nbformat_minor": 2
}
