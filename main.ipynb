{
 "cells": [
  {
   "cell_type": "code",
   "execution_count": 1,
   "id": "08f89c9c",
   "metadata": {},
   "outputs": [
    {
     "data": {
      "text/plain": [
       "'c:\\\\Users\\\\mhanania\\\\python\\\\Lecture de contrats\\\\AI transformers for contract reading\\\\.venv\\\\Scripts'"
      ]
     },
     "execution_count": 1,
     "metadata": {},
     "output_type": "execute_result"
    }
   ],
   "source": [
    "import os \n",
    "import sys\n",
    "os.path.dirname(sys.executable)"
   ]
  },
  {
   "cell_type": "code",
   "execution_count": 2,
   "id": "3153836c",
   "metadata": {},
   "outputs": [
    {
     "name": "stderr",
     "output_type": "stream",
     "text": [
      "c:\\Users\\mhanania\\python\\Lecture de contrats\\AI transformers for contract reading\\.venv\\lib\\site-packages\\tqdm\\auto.py:21: TqdmWarning: IProgress not found. Please update jupyter and ipywidgets. See https://ipywidgets.readthedocs.io/en/stable/user_install.html\n",
      "  from .autonotebook import tqdm as notebook_tqdm\n"
     ]
    },
    {
     "name": "stdout",
     "output_type": "stream",
     "text": [
      "Dataset({\n",
      "    features: ['text', 'labels'],\n",
      "    num_rows: 100\n",
      "})\n"
     ]
    }
   ],
   "source": [
    "from datasets import Dataset\n",
    "import json\n",
    "\n",
    "label_to_id = {\"O\": 0, \"TITLE\": 1, \"PERSON\": 2, \"DATE\": 3}\n",
    "\n",
    "\n",
    "# Charger les données depuis le fichier JSON\n",
    "with open(\"generated_data.json\", \"r\", encoding=\"utf-8\") as f:\n",
    "    data = json.load(f)\n",
    "\n",
    "\n",
    "dataset = Dataset.from_dict(data)\n",
    "print(dataset)"
   ]
  },
  {
   "cell_type": "code",
   "execution_count": 3,
   "id": "1b8999ac",
   "metadata": {},
   "outputs": [
    {
     "name": "stdout",
     "output_type": "stream",
     "text": [
      "Tokens: ['<s>', '▁Contrat', '▁de', '▁partenariat', '▁signé', '▁par', '▁Sophie', '▁Leclerc', '▁le', '▁5', '▁août', '▁2019.', '</s>']\n",
      "Offsets: [(0, 0), (0, 7), (8, 10), (11, 22), (23, 28), (29, 32), (33, 39), (40, 47), (48, 50), (51, 52), (53, 57), (58, 63), (0, 0)]\n"
     ]
    }
   ],
   "source": [
    "from transformers import AutoTokenizer\n",
    "\n",
    "# Charger le tokenizer\n",
    "tokenizer = AutoTokenizer.from_pretrained(\"camembert-base\")\n",
    "\n",
    "text = \"Contrat de partenariat signé par Sophie Leclerc le 5 août 2019.\"\n",
    "\n",
    "tokenized_inputs = tokenizer(text, return_offsets_mapping=True, truncation=True, padding=True)\n",
    "\n",
    "# Récupérer les tokens et leurs offsets\n",
    "tokens = tokenizer.convert_ids_to_tokens(tokenized_inputs[\"input_ids\"])\n",
    "offsets = tokenized_inputs[\"offset_mapping\"]\n",
    "\n",
    "print(\"Tokens:\", tokens)\n",
    "print(\"Offsets:\", offsets)"
   ]
  },
  {
   "cell_type": "code",
   "execution_count": 4,
   "id": "95fe6937",
   "metadata": {},
   "outputs": [
    {
     "name": "stdout",
     "output_type": "stream",
     "text": [
      "{'text': 'Accord de collaboration signé par Marc Robert le 15 janvier 2023.', 'labels': [[0, 23, 1], [34, 45, 2], [49, 64, 3]]}\n",
      "{'input_ids': [5, 18396, 8, 2111, 2917, 37, 3093, 2788, 16, 338, 695, 325, 3009, 9, 6], 'attention_mask': [1, 1, 1, 1, 1, 1, 1, 1, 1, 1, 1, 1, 1, 1, 1], 'offset_mapping': [(0, 0), (0, 6), (7, 9), (10, 23), (24, 29), (30, 33), (34, 38), (39, 45), (46, 48), (49, 51), (52, 59), (60, 62), (62, 64), (64, 65), (0, 0)]}\n",
      "['<s>', '▁Accord', '▁de', '▁collaboration', '▁signé', '▁par', '▁Marc', '▁Robert', '▁le', '▁15', '▁janvier', '▁20', '23', '.', '</s>']\n",
      "[0, 0, 0, 0, 0, 0, 0, 0, 0, 0, 0, 0, 0, 0, 0]\n",
      "[(0, 0), (0, 6), (7, 9), (10, 23), (24, 29), (30, 33), (34, 38), (39, 45), (46, 48), (49, 51), (52, 59), (60, 62), (62, 64), (64, 65), (0, 0)]\n",
      "[[0, 23, 1], [34, 45, 2], [49, 64, 3]]\n",
      "[-100, 1, 1, 1, 0, 0, 2, 2, 0, 3, 3, 3, 3, 0, -100]\n"
     ]
    }
   ],
   "source": [
    "# La phrase initiale, avec ses labels [début, fin, label] label indique quel type de mot est-ce (titre, personne...)\n",
    "sentence = dataset[0]\n",
    "print(sentence)\n",
    "\n",
    "# On passe en token de hugging face\n",
    "tokenized_inputs = tokenizer(sentence[\"text\"], return_offsets_mapping=True, truncation=True, padding=True)\n",
    "print(tokenized_inputs)\n",
    "print(tokenizer.convert_ids_to_tokens(tokenized_inputs[\"input_ids\"]))\n",
    "\n",
    "tokenized_labels = [0]*len(tokenized_inputs[\"offset_mapping\"])\n",
    "print(tokenized_labels)\n",
    "\n",
    "# Le offset associe chaque token à la phrase, ▁Accord est Accord : de 0 à 6 dans la phrase initiale\n",
    "print(tokenized_inputs[\"offset_mapping\"])\n",
    "# Les labels sont l'indications du type du mot dans la phrase initiale\n",
    "print(sentence[\"labels\"])\n",
    "\n",
    "for i,offset in enumerate(tokenized_inputs[\"offset_mapping\"] ):\n",
    "    if offset==(0,0) : \n",
    "        tokenized_labels[i] = -100\n",
    "\n",
    "    else:\n",
    "        for start, end, label in sentence[\"labels\"]:\n",
    "            if offset[0] >= start and offset[1] <= end:\n",
    "                tokenized_labels[i] =label\n",
    "                break\n",
    "\n",
    "                \n",
    "print(tokenized_labels)"
   ]
  },
  {
   "cell_type": "code",
   "execution_count": 5,
   "id": "be1c5078",
   "metadata": {},
   "outputs": [
    {
     "name": "stderr",
     "output_type": "stream",
     "text": [
      "Map: 100%|██████████| 100/100 [00:00<00:00, 4905.96 examples/s]\n"
     ]
    }
   ],
   "source": [
    "from transformers import AutoTokenizer\n",
    "\n",
    "tokenizer = AutoTokenizer.from_pretrained(\"camembert-base\")\n",
    "\n",
    "def tokenize_and_align_labels(sentences):\n",
    "    \n",
    "    tokenized_inputs = tokenizer(sentences[\"text\"], truncation=True, padding=True, return_offsets_mapping=True)\n",
    "    labels = []\n",
    "\n",
    "    for i, sentence_labels in enumerate(sentences[\"labels\"]): # La ieme phrase du batch :  0 , [[0, 23, 1], [34, 45, 2], [49, 64, 3]]\n",
    "        offsets = tokenized_inputs[\"offset_mapping\"][i] # [(0, 0), (0, 6), (7, 9), (10, 23)... ]\n",
    "        offset_labels = [0]*len(offsets)\n",
    "\n",
    "        for j, offset in enumerate(offsets):\n",
    "            if offset == (0, 0):  # Tokens spéciaux comme <s> ou <pad>\n",
    "                offset_labels[j] = -100\n",
    "\n",
    "            else:\n",
    "                for start, end, label in sentence_labels: # on regarde dans quel interval de sentence_labels est compris le offset\n",
    "                    if offset[0] >= start and offset[1] <= end:\n",
    "                        offset_labels[j] = label\n",
    "                        break\n",
    "\n",
    "        labels.append(offset_labels)\n",
    "\n",
    "    tokenized_inputs[\"labels\"] = labels\n",
    "    return tokenized_inputs\n",
    "\n",
    "\n",
    "# Appliquer la tokenisation et l'alignement. Batched=True sert a executer plusieurs batch de phrases en meme temps\n",
    "tokenized_dataset = dataset.map(tokenize_and_align_labels, batched=True)\n"
   ]
  },
  {
   "cell_type": "code",
   "execution_count": 6,
   "id": "df668313",
   "metadata": {},
   "outputs": [
    {
     "name": "stderr",
     "output_type": "stream",
     "text": [
      "Some weights of CamembertForTokenClassification were not initialized from the model checkpoint at camembert-base and are newly initialized: ['classifier.bias', 'classifier.weight']\n",
      "You should probably TRAIN this model on a down-stream task to be able to use it for predictions and inference.\n",
      "C:\\Users\\mhanania\\AppData\\Local\\Temp\\ipykernel_13560\\2008178113.py:13: FutureWarning: `tokenizer` is deprecated and will be removed in version 5.0.0 for `Trainer.__init__`. Use `processing_class` instead.\n",
      "  trainer = Trainer(\n",
      "100%|██████████| 21/21 [01:15<00:00,  3.59s/it]"
     ]
    },
    {
     "name": "stdout",
     "output_type": "stream",
     "text": [
      "{'train_runtime': 75.3559, 'train_samples_per_second': 3.981, 'train_steps_per_second': 0.279, 'train_loss': 0.9542125520252046, 'epoch': 3.0}\n"
     ]
    },
    {
     "name": "stderr",
     "output_type": "stream",
     "text": [
      "\n"
     ]
    },
    {
     "data": {
      "text/plain": [
       "TrainOutput(global_step=21, training_loss=0.9542125520252046, metrics={'train_runtime': 75.3559, 'train_samples_per_second': 3.981, 'train_steps_per_second': 0.279, 'total_flos': 2602807725600.0, 'train_loss': 0.9542125520252046, 'epoch': 3.0})"
      ]
     },
     "execution_count": 6,
     "metadata": {},
     "output_type": "execute_result"
    }
   ],
   "source": [
    "from transformers import AutoModelForTokenClassification, Trainer, TrainingArguments\n",
    "\n",
    "model = AutoModelForTokenClassification.from_pretrained(\"camembert-base\", num_labels=len(label_to_id))\n",
    "\n",
    "training_args = TrainingArguments(\n",
    "    output_dir=\"./results\",\n",
    "    num_train_epochs=3,\n",
    "    per_device_train_batch_size=16,\n",
    "    save_steps=10,\n",
    "    save_total_limit=2,\n",
    ")\n",
    "\n",
    "trainer = Trainer(\n",
    "    model=model,\n",
    "    args=training_args,\n",
    "    train_dataset=tokenized_dataset,\n",
    "    tokenizer=tokenizer,\n",
    ")\n",
    "\n",
    "trainer.train()\n"
   ]
  },
  {
   "cell_type": "code",
   "execution_count": 7,
   "id": "3b9615e5",
   "metadata": {},
   "outputs": [
    {
     "data": {
      "text/plain": [
       "('./custom_camembert_ner\\\\tokenizer_config.json',\n",
       " './custom_camembert_ner\\\\special_tokens_map.json',\n",
       " './custom_camembert_ner\\\\tokenizer.json')"
      ]
     },
     "execution_count": 7,
     "metadata": {},
     "output_type": "execute_result"
    }
   ],
   "source": [
    "model.save_pretrained(\"./custom_camembert_ner\")\n",
    "tokenizer.save_pretrained(\"./custom_camembert_ner\")\n"
   ]
  },
  {
   "cell_type": "markdown",
   "id": "441bee83",
   "metadata": {},
   "source": [
    "## Charger le modèle "
   ]
  },
  {
   "cell_type": "code",
   "execution_count": 8,
   "id": "3a78b544",
   "metadata": {},
   "outputs": [],
   "source": [
    "from transformers import AutoTokenizer, AutoModelForTokenClassification\n",
    "import torch\n",
    "\n",
    "# Charger le modèle et le tokenizer\n",
    "model = AutoModelForTokenClassification.from_pretrained(\"./custom_camembert_ner\")\n",
    "tokenizer = AutoTokenizer.from_pretrained(\"./custom_camembert_ner\")\n",
    "\n",
    "\n",
    "# Texte à analyser\n",
    "text = \"Avenant au CTR24585: SOLUTEC 15/03/2023\"\n",
    "\n",
    "# Tokeniser le texte\n",
    "inputs = tokenizer(text, return_tensors=\"pt\", truncation=True, padding=True)\n"
   ]
  },
  {
   "cell_type": "code",
   "execution_count": 9,
   "id": "b3ef1810",
   "metadata": {},
   "outputs": [
    {
     "name": "stdout",
     "output_type": "stream",
     "text": [
      "tensor([[0, 1, 1, 1, 1, 3, 3, 3, 3, 3, 3, 3, 3, 3, 3, 3, 3, 0]])\n"
     ]
    }
   ],
   "source": [
    "# Obtenir les logits (scores bruts)\n",
    "outputs = model(**inputs)\n",
    "logits = outputs.logits\n",
    "\n",
    "# Obtenir les prédictions\n",
    "predictions = torch.argmax(logits, dim=2)  # Dim=2 correspond à la dimension des labels\n",
    "\n",
    "# Afficher les résultats\n",
    "print(predictions)\n"
   ]
  },
  {
   "cell_type": "code",
   "execution_count": 10,
   "id": "bdb6920a",
   "metadata": {},
   "outputs": [
    {
     "name": "stdout",
     "output_type": "stream",
     "text": [
      "Predictions:\n",
      "▁A: TITLE\n",
      "venant: TITLE\n",
      "▁au: TITLE\n",
      "▁C: TITLE\n",
      "TR: DATE\n",
      "2: DATE\n",
      "45: DATE\n",
      "85: DATE\n",
      ":: DATE\n",
      "▁SOL: DATE\n",
      "UTE: DATE\n",
      "C: DATE\n",
      "▁15: DATE\n",
      "/03/: DATE\n",
      "20: DATE\n",
      "23: DATE\n"
     ]
    }
   ],
   "source": [
    "# Associer les tokens et les prédictions\n",
    "tokens = tokenizer.convert_ids_to_tokens(inputs[\"input_ids\"][0])\n",
    "labels = predictions[0].tolist()\n",
    "\n",
    "# Remettre les étiquettes au format lisible\n",
    "label_map = {1: \"TITLE\", 2: \"PERSON\", 3: \"DATE\"}\n",
    "results = []\n",
    "\n",
    "for token, label_idx in zip(tokens, labels):\n",
    "    if label_idx in label_map.keys(): # Ignorer les tokens spéciaux\n",
    "        results.append((token, label_map[label_idx]))\n",
    "\n",
    "# Afficher les résultats\n",
    "print(\"Predictions:\")\n",
    "for token, label in results:\n",
    "    print(f\"{token}: {label}\")\n"
   ]
  },
  {
   "cell_type": "markdown",
   "id": "cf111651",
   "metadata": {},
   "source": [
    "# Test sur une dizaine de phrases"
   ]
  },
  {
   "cell_type": "code",
   "execution_count": 11,
   "id": "ffed2adf",
   "metadata": {},
   "outputs": [
    {
     "name": "stderr",
     "output_type": "stream",
     "text": [
      "We strongly recommend passing in an `attention_mask` since your input_ids may be padded. See https://huggingface.co/docs/transformers/troubleshooting#incorrect-output-when-padding-tokens-arent-masked.\n"
     ]
    }
   ],
   "source": [
    "test_sentences = {\n",
    "    \"text\":[\"Contrat d'achat signé par Camille Lefèvre le 15 mars 2022.\",\n",
    "            \"Accord de coopération approuvé par Mathieu Girard le 1er avril 2021.\",\n",
    "            \"Convention de stage validée par Chloé Morel le 12 mai 2020.\",\n",
    "            \"Contrat de licence signé par Victor Dumas le 18 juin 2023.\",\n",
    "            \"Accord de sous-traitance confirmé par Emma Laurent le 3 septembre 2022.\",\n",
    "            \"Accord technique validé par Thomas Perrin le 20 février 2021.\",\n",
    "            \"Contrat d'exploitation signé par Léa Vidal le 7 octobre 2020.\",\n",
    "            \"Convention de partenariat officialisée par Hugo Charpentier le 14 août 2019.\",\n",
    "            \"Contrat de développement signé par Zoé Lambert le 5 novembre 2021.\",\n",
    "            \"Contrat de maintenance validé par Arthur Simon le 23 janvier 2022.\"\n",
    "    ],\n",
    "    \"labels\":[\n",
    "        [(0, 15, 1), (25, 39, 2), (43, 57, 3)],\n",
    "        [(0, 21, 1), (35, 50, 2), (54, 69, 3)],\n",
    "        [(0, 19, 1), (31, 43, 2), (47, 60, 3)],\n",
    "        [(0, 19, 1), (30, 42, 2), (46, 60, 3)],\n",
    "        [(0, 26, 1), (40, 53, 2), (57, 74, 3)],\n",
    "        [(0, 17, 1), (29, 43, 2), (47, 62, 3)],\n",
    "        [(0, 23, 1), (34, 43, 2), (47, 62, 3)],\n",
    "        [(0, 25, 1), (39, 56, 2), (60, 74, 3)],\n",
    "        [(0, 25, 1), (36, 47, 2), (51, 68, 3)],\n",
    "        [(0, 24, 1), (36, 47, 2), (51, 66, 3)]\n",
    "    ]\n",
    "}\n",
    "test_data = tokenize_and_align_labels(test_sentences)\n",
    "\n",
    "outputs = model(input_ids=torch.tensor(test_data[\"input_ids\"]))\n",
    "logits = outputs.logits\n",
    "predictions = torch.argmax(logits, dim=2).tolist()\n"
   ]
  },
  {
   "cell_type": "code",
   "execution_count": 12,
   "id": "239235b2",
   "metadata": {},
   "outputs": [
    {
     "name": "stdout",
     "output_type": "stream",
     "text": [
      "pred :[0, 1, 1, 0, 1, 0, 0, 2, 2, 3, 2, 0, 3, 3, 3, 0, 0] - reel : [-100, 1, 1, 1, 1, 0, 0, 2, 2, 2, 0, 0, 3, 3, 3, 0, -100]\n",
      "pred :[0, 1, 1, 1, 0, 0, 2, 2, 0, 3, 3, 3, 3, 3, 0, 0, 0] - reel : [-100, 1, 1, 1, 0, 0, 2, 2, 0, 0, 3, 3, 3, 3, 3, -100, -100]\n",
      "pred :[0, 1, 1, 1, 0, 0, 2, 2, 2, 0, 3, 3, 3, 0, 0, 0, 0] - reel : [-100, 1, 1, 1, 0, 0, 2, 2, 2, 0, 3, 3, 3, 3, -100, -100, -100]\n",
      "pred :[0, 1, 1, 1, 0, 0, 2, 2, 2, 0, 3, 3, 3, 3, 0, 0, 0] - reel : [-100, 1, 1, 1, 0, 0, 0, 2, 2, 0, 0, 3, 3, 3, 3, -100, -100]\n",
      "pred :[0, 1, 1, 1, 1, 1, 0, 0, 2, 2, 0, 3, 3, 3, 0, 0, 0] - reel : [-100, 1, 1, 1, 1, 1, 0, 0, 0, 2, 2, 0, 0, 3, 3, -100, -100]\n",
      "pred :[0, 1, 1, 0, 0, 2, 2, 0, 3, 3, 3, 3, 0, 0, 0, 0, 0] - reel : [-100, 1, 1, 0, 0, 0, 2, 0, 0, 3, 3, 3, 3, -100, -100, -100, -100]\n",
      "pred :[0, 1, 1, 0, 1, 0, 0, 2, 2, 0, 3, 3, 3, 0, 0, 0, 0] - reel : [-100, 1, 1, 1, 1, 0, 0, 0, 2, 0, 0, 3, 3, 3, -100, -100, -100]\n",
      "pred :[0, 1, 1, 1, 0, 0, 0, 2, 2, 2, 2, 0, 3, 3, 3, 0, 0] - reel : [-100, 1, 1, 1, 0, 0, 2, 2, 2, 2, 0, 3, 3, 3, 0, -100, -100]\n",
      "pred :[0, 1, 1, 1, 0, 0, 2, 2, 0, 3, 3, 3, 3, 0, 0, 0, 0] - reel : [-100, 1, 1, 1, 0, 0, 0, 2, 0, 0, 3, 3, 3, 3, -100, -100, -100]\n",
      "pred :[0, 1, 1, 1, 0, 0, 2, 2, 0, 3, 3, 3, 0, 0, 0, 0, 0] - reel : [-100, 1, 1, 1, 0, 0, 0, 2, 0, 0, 3, 3, 3, -100, -100, -100, -100]\n"
     ]
    }
   ],
   "source": [
    "for i in range (len(predictions)):\n",
    "    print(f\"pred :{predictions[i]} - reel : {test_data['labels'][i]}\")"
   ]
  },
  {
   "cell_type": "code",
   "execution_count": 13,
   "id": "17fff585",
   "metadata": {},
   "outputs": [
    {
     "name": "stdout",
     "output_type": "stream",
     "text": [
      "Précision: 0.77, Accuracy: 0.77, Rappel: 0.77, F1-Score: 0.77\n"
     ]
    }
   ],
   "source": [
    "from sklearn.metrics import precision_score, recall_score, f1_score, accuracy_score\n",
    "\n",
    "y_true, y_pred = [], []\n",
    "\n",
    "for i, label_seq in enumerate(test_data[\"labels\"]):\n",
    "    for j, label in enumerate(label_seq):\n",
    "        if label != -100:  # Ignorer les tokens spéciaux\n",
    "            y_true.append(label)\n",
    "            y_pred.append(predictions[i][j])\n",
    "\n",
    "precision = precision_score(y_true, y_pred, average=\"weighted\")\n",
    "accuracy = accuracy_score(y_true, y_pred)\n",
    "recall = recall_score(y_true, y_pred, average=\"weighted\")\n",
    "f1 = f1_score(y_true, y_pred, average=\"weighted\")\n",
    "\n",
    "print(f\"Précision: {precision:.2f}, Accuracy: {accuracy:.2f}, Rappel: {recall:.2f}, F1-Score: {f1:.2f}\")"
   ]
  },
  {
   "cell_type": "markdown",
   "id": "d8fa0b98",
   "metadata": {},
   "source": [
    "# Test sur un vrai document"
   ]
  },
  {
   "cell_type": "code",
   "execution_count": 14,
   "id": "70996d10",
   "metadata": {},
   "outputs": [
    {
     "name": "stdout",
     "output_type": "stream",
     "text": [
      "Predictions:\n",
      "▁Convention: TITLE\n",
      "▁d: TITLE\n",
      "’: DATE\n",
      "accord: TITLE\n",
      "▁(: DATE\n",
      "indi: DATE\n",
      "▁Jean: PERSON\n",
      "▁B: DATE\n",
      "aliste: DATE\n",
      "▁que: DATE\n",
      "r: DATE\n",
      "▁Pierre: PERSON\n",
      "▁D: TITLE\n",
      "’: DATE\n",
      "ette: DATE\n",
      "indiquer: DATE\n",
      "▁convention: TITLE\n",
      "▁d: TITLE\n",
      "accord: TITLE\n",
      "s: TITLE\n",
      "▁but: DATE\n",
      "▁définitivement: TITLE\n",
      "▁litige: TITLE\n",
      "▁de: TITLE\n",
      "▁...: TITLE\n",
      "▁nature: DATE\n",
      "▁litige: TITLE\n",
      "▁voulez: DATE\n",
      ":: DATE\n",
      "▁contra: TITLE\n",
      "▁t: TITLE\n",
      "▁de: TITLE\n",
      "▁vente: TITLE\n",
      "▁du: TITLE\n",
      "▁...: TITLE\n",
      "▁ou: TITLE\n",
      "▁contrat: TITLE\n",
      "▁d: TITLE\n",
      "’: DATE\n",
      "entreprise: TITLE\n",
      "▁pour: DATE\n",
      "▁...: DATE\n",
      "▁conviennent: TITLE\n",
      "▁cet: DATE\n",
      "▁accord: TITLE\n",
      "▁1.: DATE\n",
      "▁Prestation: TITLE\n",
      "s: TITLE\n",
      "▁de: TITLE\n",
      "▁Jean: PERSON\n",
      "▁B: DATE\n",
      "aliste: DATE\n",
      "indiquer: DATE\n",
      "▁votre: PERSON\n",
      "▁prestations: TITLE\n",
      "▁prestation: TITLE\n",
      "oubliez: DATE\n",
      "▁paragraphe: DATE\n",
      "▁prestation: TITLE\n",
      "▁fournir: TITLE\n",
      "▁prestations: TITLE\n",
      "▁prestations: TITLE\n",
      "▁accessoires: TITLE\n",
      "▁manière: DATE\n",
      "▁d: DATE\n",
      "▁ont: DATE\n",
      "▁la: DATE\n",
      "▁prestation: TITLE\n",
      "▁être: DATE\n",
      "▁paiement: TITLE\n",
      "▁de: TITLE\n",
      "▁de: TITLE\n",
      "▁prestation: TITLE\n",
      "▁droits: TITLE\n",
      "▁devoirs: TITLE\n",
      "▁Prestation: TITLE\n",
      "s: TITLE\n",
      "▁de: TITLE\n",
      "▁Pierre: PERSON\n",
      "ette: DATE\n",
      "indiquer: DATE\n",
      "▁convention: TITLE\n",
      "▁d: TITLE\n",
      "▁prestations: TITLE\n",
      "▁ait: DATE\n",
      "▁prestation: TITLE\n",
      "▁prestation: TITLE\n",
      "▁prestations: TITLE\n",
      "▁prestations: TITLE\n",
      "▁manière: DATE\n",
      "▁prestation: TITLE\n",
      "▁être: DATE\n",
      "▁paiement: TITLE\n",
      "▁de: TITLE\n",
      "▁de: TITLE\n",
      "▁prestation: TITLE\n",
      "▁2: DATE\n",
      "▁•: DATE\n",
      "▁droits: TITLE\n",
      "▁devoirs: TITLE\n",
      "▁Autres: TITLE\n",
      "▁dispositions: TITLE\n",
      "▁Sur: TITLE\n",
      "▁ce: DATE\n",
      "▁convention: TITLE\n",
      "▁Une: DATE\n",
      "▁clause: TITLE\n",
      "▁pénale: TITLE\n",
      "▁cas: DATE\n",
      "▁de: TITLE\n",
      "▁de: TITLE\n",
      "▁convention: TITLE\n",
      "▁de: TITLE\n",
      "▁convention: TITLE\n",
      "▁cas: DATE\n",
      "▁de: TITLE\n",
      "▁L: TITLE\n",
      "▁sur: DATE\n",
      "▁arbitre: TITLE\n",
      "▁conflits: TITLE\n",
      "▁convention: TITLE\n",
      "▁cas: DATE\n",
      "▁de: TITLE\n",
      "▁cas: DATE\n",
      "▁de: TITLE\n",
      "▁serait: DATE\n",
      "▁lieu: DATE\n",
      "▁e: DATE\n",
      "indiquer: DATE\n",
      "▁).: DATE\n",
      "Paris: TITLE\n",
      "▁légaux: TITLE\n",
      "▁finale: TITLE\n",
      "▁convention: TITLE\n",
      "▁reconnaissance: TITLE\n",
      "obligation: TITLE\n",
      "▁de: TITLE\n",
      "▁responsabilité: TITLE\n",
      ".: DATE\n",
      "2.: DATE\n",
      "▁Avec: TITLE\n",
      "▁l: DATE\n",
      "': DATE\n",
      "exécution: TITLE\n"
     ]
    }
   ],
   "source": [
    "from Pdf2Text import pdf_to_text\n",
    "path=\"modeles_de_contrats-convention_d_accord-cap.pdf\"\n",
    "text = pdf_to_text(path)\n",
    "\n",
    "inputs = tokenizer(text, return_tensors=\"pt\", truncation=True, padding=True)\n",
    "\n",
    "# Obtenir les logits (scores bruts)\n",
    "outputs = model(**inputs)\n",
    "logits = outputs.logits\n",
    "\n",
    "# Obtenir les prédictions\n",
    "predictions = torch.argmax(logits, dim=2)  # Dim=2 correspond à la dimension des labels\n",
    "\n",
    "# Associer les tokens et les prédictions\n",
    "tokens = tokenizer.convert_ids_to_tokens(inputs[\"input_ids\"][0])\n",
    "labels = predictions[0].tolist()\n",
    "\n",
    "# Remettre les étiquettes au format lisible\n",
    "label_map = {1: \"TITLE\", 2: \"PERSON\", 3: \"DATE\"}\n",
    "results = []\n",
    "\n",
    "for token, label_idx in zip(tokens, labels):\n",
    "    if label_idx in label_map.keys(): # Ignorer les tokens spéciaux\n",
    "        results.append((token, label_map[label_idx]))\n",
    "\n",
    "# Afficher les résultats\n",
    "print(\"Predictions:\")\n",
    "for token, label in results:\n",
    "    print(f\"{token}: {label}\")\n"
   ]
  }
 ],
 "metadata": {
  "kernelspec": {
   "display_name": ".venv",
   "language": "python",
   "name": "python3"
  },
  "language_info": {
   "codemirror_mode": {
    "name": "ipython",
    "version": 3
   },
   "file_extension": ".py",
   "mimetype": "text/x-python",
   "name": "python",
   "nbconvert_exporter": "python",
   "pygments_lexer": "ipython3",
   "version": "3.10.2"
  }
 },
 "nbformat": 4,
 "nbformat_minor": 5
}
