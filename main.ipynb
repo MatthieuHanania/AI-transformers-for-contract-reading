{
 "cells": [
  {
   "cell_type": "code",
   "execution_count": 1,
   "id": "3153836c",
   "metadata": {},
   "outputs": [
    {
     "name": "stderr",
     "output_type": "stream",
     "text": [
      "c:\\Users\\mhanania\\python\\Lecture de contrats\\AI transformers for contract reading\\.venv\\lib\\site-packages\\tqdm\\auto.py:21: TqdmWarning: IProgress not found. Please update jupyter and ipywidgets. See https://ipywidgets.readthedocs.io/en/stable/user_install.html\n",
      "  from .autonotebook import tqdm as notebook_tqdm\n"
     ]
    },
    {
     "name": "stdout",
     "output_type": "stream",
     "text": [
      "Dataset({\n",
      "    features: ['text', 'labels'],\n",
      "    num_rows: 100\n",
      "})\n"
     ]
    }
   ],
   "source": [
    "from datasets import Dataset\n",
    "import json\n",
    "\n",
    "label_to_id = {\"TITLE\": 0, \"PERSON\": 1, \"DATE\": 2}\n",
    "\n",
    "\n",
    "# Charger les données depuis le fichier JSON\n",
    "with open(\"generated_data.json\", \"r\", encoding=\"utf-8\") as f:\n",
    "    data = json.load(f)\n",
    "\n",
    "\n",
    "dataset = Dataset.from_dict(data)\n",
    "print(dataset)"
   ]
  },
  {
   "cell_type": "code",
   "execution_count": 2,
   "id": "1b8999ac",
   "metadata": {},
   "outputs": [
    {
     "name": "stdout",
     "output_type": "stream",
     "text": [
      "Tokens: ['<s>', '▁Contrat', '▁de', '▁partenariat', '▁signé', '▁par', '▁Sophie', '▁Leclerc', '▁le', '▁5', '▁août', '▁2019.', '</s>']\n",
      "Offsets: [(0, 0), (0, 7), (8, 10), (11, 22), (23, 28), (29, 32), (33, 39), (40, 47), (48, 50), (51, 52), (53, 57), (58, 63), (0, 0)]\n"
     ]
    }
   ],
   "source": [
    "from transformers import AutoTokenizer\n",
    "\n",
    "# Charger le tokenizer\n",
    "tokenizer = AutoTokenizer.from_pretrained(\"camembert-base\")\n",
    "\n",
    "text = \"Contrat de partenariat signé par Sophie Leclerc le 5 août 2019.\"\n",
    "\n",
    "tokenized_inputs = tokenizer(text, return_offsets_mapping=True, truncation=True, padding=True)\n",
    "\n",
    "# Récupérer les tokens et leurs offsets\n",
    "tokens = tokenizer.convert_ids_to_tokens(tokenized_inputs[\"input_ids\"])\n",
    "offsets = tokenized_inputs[\"offset_mapping\"]\n",
    "\n",
    "print(\"Tokens:\", tokens)\n",
    "print(\"Offsets:\", offsets)"
   ]
  },
  {
   "cell_type": "code",
   "execution_count": 11,
   "id": "95fe6937",
   "metadata": {},
   "outputs": [
    {
     "name": "stdout",
     "output_type": "stream",
     "text": [
      "{'text': 'Accord commercial signé par Sophie Leclerc le 2 février 2021.', 'labels': [[0, 17, 0], [28, 42, 1], [46, 60, 2]]}\n",
      "{'input_ids': [5, 19217, 8, 2455, 2917, 37, 7834, 18673, 16, 205, 995, 14224, 6], 'attention_mask': [1, 1, 1, 1, 1, 1, 1, 1, 1, 1, 1, 1, 1], 'offset_mapping': [(0, 0), (0, 7), (8, 10), (11, 22), (23, 28), (29, 32), (33, 39), (40, 47), (48, 50), (51, 52), (53, 57), (58, 63), (0, 0)]}\n",
      "[[0, 17, 0], [28, 42, 1], [46, 60, 2]]\n",
      "(0, 0)\n",
      "(0, 7)\n",
      "(8, 10)\n",
      "(11, 22)\n",
      "(23, 28)\n",
      "(29, 32)\n",
      "(33, 39)\n",
      "(40, 47)\n",
      "(48, 50)\n",
      "(51, 52)\n",
      "(53, 57)\n",
      "(58, 63)\n",
      "(0, 0)\n"
     ]
    }
   ],
   "source": [
    "sentence = dataset[0]\n",
    "print(sentence)\n",
    "\n",
    "tokenized_inputs = tokenizer(text, return_offsets_mapping=True, truncation=True, padding=True)\n",
    "print(tokenized_inputs)\n",
    "\n",
    "print(sentence[\"labels\"])\n",
    "\n",
    "for offset in tokenized_inputs[\"offset_mapping\"]:\n",
    "    print(offset)"
   ]
  },
  {
   "cell_type": "code",
   "execution_count": null,
   "id": "e594ea31",
   "metadata": {},
   "outputs": [],
   "source": [
    "from transformers import AutoTokenizer"
   ]
  },
  {
   "cell_type": "code",
   "execution_count": 20,
   "id": "fe84c617",
   "metadata": {},
   "outputs": [
    {
     "name": "stderr",
     "output_type": "stream",
     "text": [
      "Map: 100%|██████████| 100/100 [00:00<00:00, 2250.04 examples/s]\n"
     ]
    }
   ],
   "source": [
    "from transformers import AutoTokenizer\n",
    "\n",
    "tokenizer = AutoTokenizer.from_pretrained(\"camembert-base\")\n",
    "\n",
    "def tokenize_and_align_labels(examples):\n",
    "    tokenized_inputs = tokenizer(examples[\"text\"], truncation=True, padding=True, return_offsets_mapping=True)\n",
    "    labels = []\n",
    "\n",
    "    for i, label_set in enumerate(examples[\"labels\"]):\n",
    "        offsets = tokenized_inputs[\"offset_mapping\"][i]\n",
    "        label_ids = []\n",
    "\n",
    "        for offset in offsets:\n",
    "            if offset == (0, 0):  # Tokens spéciaux comme <s> ou <pad>\n",
    "                label_ids.append(-100)\n",
    "            else:\n",
    "                # Trouver le label correspondant à cet offset\n",
    "                token_label = \"O\"  # Par défaut, aucun label\n",
    "                for start, end, label in label_set:\n",
    "                    if offset[0] >= start and offset[1] <= end:\n",
    "                        token_label = label\n",
    "                        break\n",
    "                label_ids.append(label_to_id.get(token_label, 0))  # Convertir en ID\n",
    "\n",
    "        labels.append(label_ids)\n",
    "\n",
    "    tokenized_inputs[\"labels\"] = labels\n",
    "    return tokenized_inputs\n",
    "\n",
    "\n",
    "# Appliquer la tokenisation et l'alignement\n",
    "tokenized_dataset = dataset.map(tokenize_and_align_labels, batched=True)\n"
   ]
  },
  {
   "cell_type": "code",
   "execution_count": 21,
   "id": "ee6526e8",
   "metadata": {},
   "outputs": [
    {
     "data": {
      "text/plain": [
       "Dataset({\n",
       "    features: ['text', 'labels', 'input_ids', 'attention_mask', 'offset_mapping'],\n",
       "    num_rows: 100\n",
       "})"
      ]
     },
     "execution_count": 21,
     "metadata": {},
     "output_type": "execute_result"
    }
   ],
   "source": [
    "tokenized_dataset"
   ]
  },
  {
   "cell_type": "code",
   "execution_count": 3,
   "id": "44830bff",
   "metadata": {},
   "outputs": [
    {
     "data": {
      "text/plain": [
       "'c:\\\\Users\\\\mhanania\\\\python\\\\Lecture de contrats\\\\AI transformers for contract reading\\\\.venv\\\\Scripts'"
      ]
     },
     "execution_count": 3,
     "metadata": {},
     "output_type": "execute_result"
    }
   ],
   "source": [
    "import os \n",
    "import sys\n",
    "os.path.dirname(sys.executable)"
   ]
  },
  {
   "cell_type": "code",
   "execution_count": 26,
   "id": "55fe2eb7",
   "metadata": {},
   "outputs": [
    {
     "name": "stdout",
     "output_type": "stream",
     "text": [
      "Contrat de partenariat signé par Sophie Leclerc le 5 août 2019. \n",
      " [[0, 22, 0], [33, 47, 1], [51, 62, 2]] \n",
      " ['<s>', '▁Contrat', '▁de', '▁partenariat', '▁signé', '▁par', '▁Sophie', '▁Leclerc', '▁le', '▁5', '▁août', '▁2019.', '</s>', '<pad>', '<pad>', '<pad>', '<pad>'] \n",
      " [-100, 0, 0, 0, 0, 0, 0, 0, 0, 0, 0, 0, -100, -100, -100, -100, -100] \n",
      " [5, 19217, 8, 2455, 2917, 37, 7834, 18673, 16, 205, 995, 14224, 6, 1, 1, 1, 1] \n",
      " [1, 1, 1, 1, 1, 1, 1, 1, 1, 1, 1, 1, 1, 0, 0, 0, 0] \n",
      "\n"
     ]
    }
   ],
   "source": [
    "print(\n",
    "    tokenized_dataset[1][\"text\"],\"\\n\",\n",
    "    dataset[\"labels\"][1],\"\\n\",\n",
    "    tokenizer.convert_ids_to_tokens(tokenized_dataset[1][\"input_ids\"]),\"\\n\",\n",
    "    tokenized_dataset[1][\"labels\"],\"\\n\",\n",
    "    tokenized_dataset[1][\"input_ids\"],\"\\n\",\n",
    "    tokenized_dataset[1][\"attention_mask\"],\"\\n\",\n",
    ")"
   ]
  },
  {
   "cell_type": "code",
   "execution_count": 4,
   "id": "df668313",
   "metadata": {},
   "outputs": [
    {
     "name": "stderr",
     "output_type": "stream",
     "text": [
      "Some weights of CamembertForTokenClassification were not initialized from the model checkpoint at camembert-base and are newly initialized: ['classifier.bias', 'classifier.weight']\n",
      "You should probably TRAIN this model on a down-stream task to be able to use it for predictions and inference.\n",
      "C:\\Users\\mhanania\\AppData\\Local\\Temp\\ipykernel_12208\\2008178113.py:13: FutureWarning: `tokenizer` is deprecated and will be removed in version 5.0.0 for `Trainer.__init__`. Use `processing_class` instead.\n",
      "  trainer = Trainer(\n",
      "100%|██████████| 21/21 [01:07<00:00,  3.19s/it]"
     ]
    },
    {
     "name": "stdout",
     "output_type": "stream",
     "text": [
      "{'train_runtime': 67.0648, 'train_samples_per_second': 4.473, 'train_steps_per_second': 0.313, 'train_loss': 0.4465455100649879, 'epoch': 3.0}\n"
     ]
    },
    {
     "name": "stderr",
     "output_type": "stream",
     "text": [
      "\n"
     ]
    },
    {
     "data": {
      "text/plain": [
       "TrainOutput(global_step=21, training_loss=0.4465455100649879, metrics={'train_runtime': 67.0648, 'train_samples_per_second': 4.473, 'train_steps_per_second': 0.313, 'total_flos': 2602784194200.0, 'train_loss': 0.4465455100649879, 'epoch': 3.0})"
      ]
     },
     "execution_count": 4,
     "metadata": {},
     "output_type": "execute_result"
    }
   ],
   "source": [
    "from transformers import AutoModelForTokenClassification, Trainer, TrainingArguments\n",
    "\n",
    "model = AutoModelForTokenClassification.from_pretrained(\"camembert-base\", num_labels=len(label_to_id))\n",
    "\n",
    "training_args = TrainingArguments(\n",
    "    output_dir=\"./results\",\n",
    "    num_train_epochs=3,\n",
    "    per_device_train_batch_size=16,\n",
    "    save_steps=10,\n",
    "    save_total_limit=2,\n",
    ")\n",
    "\n",
    "trainer = Trainer(\n",
    "    model=model,\n",
    "    args=training_args,\n",
    "    train_dataset=tokenized_dataset,\n",
    "    tokenizer=tokenizer,\n",
    ")\n",
    "\n",
    "trainer.train()\n"
   ]
  },
  {
   "cell_type": "code",
   "execution_count": 5,
   "id": "3b9615e5",
   "metadata": {},
   "outputs": [
    {
     "data": {
      "text/plain": [
       "('./custom_camembert_ner\\\\tokenizer_config.json',\n",
       " './custom_camembert_ner\\\\special_tokens_map.json',\n",
       " './custom_camembert_ner\\\\tokenizer.json')"
      ]
     },
     "execution_count": 5,
     "metadata": {},
     "output_type": "execute_result"
    }
   ],
   "source": [
    "model.save_pretrained(\"./custom_camembert_ner\")\n",
    "tokenizer.save_pretrained(\"./custom_camembert_ner\")\n"
   ]
  },
  {
   "cell_type": "markdown",
   "id": "441bee83",
   "metadata": {},
   "source": [
    "## Charger le modèle "
   ]
  },
  {
   "cell_type": "code",
   "execution_count": 6,
   "id": "3a78b544",
   "metadata": {},
   "outputs": [],
   "source": [
    "from transformers import AutoTokenizer, AutoModelForTokenClassification\n",
    "import torch\n",
    "\n",
    "# Charger le modèle et le tokenizer\n",
    "model = AutoModelForTokenClassification.from_pretrained(\"./custom_camembert_ner\")\n",
    "tokenizer = AutoTokenizer.from_pretrained(\"./custom_camembert_ner\")\n",
    "\n",
    "\n",
    "# Texte à analyser\n",
    "text = \"Accord signé par Alice Dupont le 15 février 2023.\"\n",
    "\n",
    "# Tokeniser le texte\n",
    "inputs = tokenizer(text, return_tensors=\"pt\", truncation=True, padding=True)\n"
   ]
  },
  {
   "cell_type": "code",
   "execution_count": 7,
   "id": "b3ef1810",
   "metadata": {},
   "outputs": [
    {
     "name": "stdout",
     "output_type": "stream",
     "text": [
      "tensor([[0, 0, 0, 0, 0, 0, 0, 0, 0, 0, 0, 0, 0]])\n"
     ]
    }
   ],
   "source": [
    "# Obtenir les logits (scores bruts)\n",
    "outputs = model(**inputs)\n",
    "logits = outputs.logits\n",
    "\n",
    "# Obtenir les prédictions\n",
    "predictions = torch.argmax(logits, dim=2)  # Dim=2 correspond à la dimension des labels\n",
    "\n",
    "# Afficher les résultats\n",
    "print(predictions)\n"
   ]
  },
  {
   "cell_type": "code",
   "execution_count": 9,
   "id": "bdb6920a",
   "metadata": {},
   "outputs": [
    {
     "name": "stdout",
     "output_type": "stream",
     "text": [
      "Predictions:\n",
      "<s>: O\n",
      "▁Accord: O\n",
      "▁signé: O\n",
      "▁par: O\n",
      "▁Alice: O\n",
      "▁Dupont: O\n",
      "▁le: O\n",
      "▁15: O\n",
      "▁février: O\n",
      "▁20: O\n",
      "23: O\n",
      ".: O\n",
      "</s>: O\n"
     ]
    }
   ],
   "source": [
    "# Associer les tokens et les prédictions\n",
    "tokens = tokenizer.convert_ids_to_tokens(inputs[\"input_ids\"][0])\n",
    "labels = predictions[0].tolist()\n",
    "\n",
    "# Remettre les étiquettes au format lisible\n",
    "label_map = {0: \"O\", 1: \"PERSON\", 2: \"TITLE\", 3: \"DATE\"}\n",
    "results = []\n",
    "\n",
    "for token, label_idx in zip(tokens, labels):\n",
    "    if label_idx != -100:  # Ignorer les tokens spéciaux\n",
    "        results.append((token, label_map[label_idx]))\n",
    "\n",
    "# Afficher les résultats\n",
    "print(\"Predictions:\")\n",
    "for token, label in results:\n",
    "    print(f\"{token}: {label}\")\n"
   ]
  }
 ],
 "metadata": {
  "kernelspec": {
   "display_name": ".venv",
   "language": "python",
   "name": "python3"
  },
  "language_info": {
   "codemirror_mode": {
    "name": "ipython",
    "version": 3
   },
   "file_extension": ".py",
   "mimetype": "text/x-python",
   "name": "python",
   "nbconvert_exporter": "python",
   "pygments_lexer": "ipython3",
   "version": "3.10.2"
  }
 },
 "nbformat": 4,
 "nbformat_minor": 5
}
